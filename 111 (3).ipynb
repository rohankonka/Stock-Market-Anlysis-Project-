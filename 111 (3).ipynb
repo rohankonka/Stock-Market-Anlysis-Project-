{
 "cells": [
  {
   "cell_type": "code",
   "execution_count": 1,
   "id": "ab87c63b",
   "metadata": {
    "ExecuteTime": {
     "end_time": "2023-04-14T18:59:52.743336Z",
     "start_time": "2023-04-14T18:59:41.889006Z"
    }
   },
   "outputs": [
    {
     "name": "stdout",
     "output_type": "stream",
     "text": [
      "[*********************100%***********************]  1 of 1 completed\n"
     ]
    },
    {
     "name": "stderr",
     "output_type": "stream",
     "text": [
      "2023-04-15 00:29:52.178 \n",
      "  \u001b[33m\u001b[1mWarning:\u001b[0m to view this Streamlit app on a browser, run it with the following\n",
      "  command:\n",
      "\n",
      "    streamlit run C:\\Users\\rohan\\anaconda3\\lib\\site-packages\\ipykernel_launcher.py [ARGUMENTS]\n"
     ]
    },
    {
     "data": {
      "text/plain": [
       "DeltaGenerator(_root_container=0, _provided_cursor=None, _parent=None, _block_type=None, _form_data=None)"
      ]
     },
     "execution_count": 1,
     "metadata": {},
     "output_type": "execute_result"
    },
    {
     "data": {
      "text/plain": [
       "<Figure size 640x480 with 0 Axes>"
      ]
     },
     "metadata": {},
     "output_type": "display_data"
    }
   ],
   "source": [
    "import warnings \n",
    "warnings.filterwarnings('ignore')\n",
    "import yfinance as yf\n",
    "import pandas as pd\n",
    "from sklearn.ensemble import RandomForestRegressor\n",
    "import streamlit as st\n",
    "\n",
    "# Define function to load and preprocess data\n",
    "\n",
    "def load_data():\n",
    "    # Load data from yfinance\n",
    "    df = yf.download(\"RELIANCE.NS\", start=\"2015-01-01\", end=\"2022-12-30\")\n",
    "    # Reset index to move date from upper header to main column\n",
    "    df = df.reset_index()\n",
    "    # Filter columns to only include date and close price\n",
    "    df = df[['Date', 'Close']]\n",
    "    # Rename columns\n",
    "    df.columns = ['date', 'close']\n",
    "    # Add features for year, month, day of week, and day of month\n",
    "    df['year'] = df['date'].dt.year\n",
    "    df['month'] = df['date'].dt.month\n",
    "    df['day_of_week'] = df['date'].dt.dayofweek\n",
    "    df['day_of_month'] = df['date'].dt.day\n",
    "    # Convert date to string format\n",
    "    df['date'] = df['date'].dt.strftime('%Y-%m-%d')\n",
    "    return df\n",
    "\n",
    "# Load data\n",
    "df = load_data()\n",
    "\n",
    "# Split data into training and testing sets\n",
    "train = df[df['date'] < '2022-06-01']\n",
    "test = df[df['date'] >= '2022-06-01']\n",
    "\n",
    "# Define X and y for training and testing sets\n",
    "X_train = train.drop(['date', 'close'], axis=1)\n",
    "y_train = train['close']\n",
    "X_test = test.drop(['date', 'close'], axis=1)\n",
    "y_test = test['close']\n",
    "\n",
    "# Train random forest regressor\n",
    "rf = RandomForestRegressor(n_estimators=100, random_state=42)\n",
    "rf.fit(X_train, y_train)\n",
    "\n",
    "# Make predictions for next 30 days starting from 2023-01-01\n",
    "future_dates = pd.date_range(start='2023-01-01', periods=30, freq='D')\n",
    "future_dates_str = [d.strftime('%Y-%m-%d') for d in future_dates]\n",
    "future_features = pd.DataFrame({'date': future_dates_str})\n",
    "future_features['year'] = future_features['date'].str.slice(0, 4).astype(int)\n",
    "future_features['month'] = future_features['date'].str.slice(5, 7).astype(int)\n",
    "future_features['day_of_week'] = pd.to_datetime(future_features['date']).dt.dayofweek\n",
    "future_features['day_of_month'] = pd.to_datetime(future_features['date']).dt.day\n",
    "future_features = future_features.drop('date', axis=1)\n",
    "future_predictions = rf.predict(future_features)\n",
    "\n",
    "# Create table of future dates and predicted close prices\n",
    "future_df = pd.DataFrame({'Date': future_dates, 'Predicted Close': future_predictions})\n",
    "future_df['Date'] = future_df['Date'].dt.strftime('%Y-%m-%d')\n",
    "future_df = future_df.set_index('Date')\n",
    "st.table(future_df)\n",
    "\n",
    "\n",
    "import matplotlib.pyplot as plt\n",
    "\n",
    "# plot the line graph\n",
    "plt.plot(future_predictions)\n",
    "\n",
    "# add title and axis labels\n",
    "plt.title(\"Predictions for Next 30 Days\")\n",
    "plt.xlabel(\"Days\")\n",
    "plt.ylabel(\"predictions\")\n",
    "\n",
    "# rotate x-axis labels for better readability\n",
    "plt.xticks(rotation=45)\n",
    "st.set_option('deprecation.showPyplotGlobalUse', False)\n",
    "# display the plot\n",
    "st.pyplot()\n"
   ]
  },
  {
   "cell_type": "code",
   "execution_count": null,
   "id": "5871f6a3",
   "metadata": {
    "ExecuteTime": {
     "end_time": "2023-03-14T06:45:21.291834Z",
     "start_time": "2023-03-14T06:45:21.187171Z"
    }
   },
   "outputs": [],
   "source": []
  },
  {
   "cell_type": "code",
   "execution_count": null,
   "id": "532935f8",
   "metadata": {
    "ExecuteTime": {
     "end_time": "2023-03-14T06:27:49.791479Z",
     "start_time": "2023-03-14T06:27:49.717784Z"
    }
   },
   "outputs": [],
   "source": []
  },
  {
   "cell_type": "code",
   "execution_count": null,
   "id": "2f8e8eb1",
   "metadata": {},
   "outputs": [],
   "source": []
  }
 ],
 "metadata": {
  "kernelspec": {
   "display_name": "Python 3 (ipykernel)",
   "language": "python",
   "name": "python3"
  },
  "language_info": {
   "codemirror_mode": {
    "name": "ipython",
    "version": 3
   },
   "file_extension": ".py",
   "mimetype": "text/x-python",
   "name": "python",
   "nbconvert_exporter": "python",
   "pygments_lexer": "ipython3",
   "version": "3.9.13"
  }
 },
 "nbformat": 4,
 "nbformat_minor": 5
}
